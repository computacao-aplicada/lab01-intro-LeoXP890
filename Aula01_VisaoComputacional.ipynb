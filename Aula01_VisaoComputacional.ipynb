{
 "cells": [
  {
   "cell_type": "markdown",
   "id": "b2fe524b",
   "metadata": {},
   "source": [
    "# Aula 01: Introdução à Visão Computacional e Computação Gráfica"
   ]
  },
  {
   "cell_type": "code",
   "execution_count": null,
   "id": "e3c59e6c",
   "metadata": {},
   "outputs": [],
   "source": [
    "\n",
    "import numpy as np\n",
    "from PIL import Image\n",
    "import matplotlib.pyplot as plt\n",
    "import requests\n",
    "\n",
    "# Carregar imagem\n",
    "url = \"https://images.unsplash.com/photo-1745810187217-4d9e1ccfd9d5?ixlib=rb-4.1.0&q=85&fm=jpg&crop=entropy&cs=srgb&w=640\"\n",
    "image = Image.open(requests.get(url, stream=True).raw).convert(\"RGB\")\n",
    "plt.imshow(image)\n",
    "plt.title(\"Imagem Original\")\n",
    "plt.axis('off')\n",
    "plt.show()\n"
   ]
  },
  {
   "cell_type": "markdown",
   "id": "51f9944d",
   "metadata": {},
   "source": [
    "## Exibir apenas o canal vermelho"
   ]
  },
  {
   "cell_type": "code",
   "execution_count": null,
   "id": "10f065e9",
   "metadata": {},
   "outputs": [],
   "source": [
    "\n",
    "r, g, b = image.split()\n",
    "plt.imshow(r, cmap='Reds')\n",
    "plt.title(\"Canal Vermelho\")\n",
    "plt.axis('off')\n",
    "plt.show()\n"
   ]
  },
  {
   "cell_type": "markdown",
   "id": "410548f0",
   "metadata": {},
   "source": [
    "## Modificar aleatoriamente o canal vermelho e gerar nova imagem"
   ]
  },
  {
   "cell_type": "code",
   "execution_count": null,
   "id": "476c0e7f",
   "metadata": {},
   "outputs": [],
   "source": [
    "\n",
    "import random\n",
    "\n",
    "r_np = np.array(r)\n",
    "r_np = (r_np + np.random.randint(0, 100, r_np.shape)) % 256\n",
    "r_mod = Image.fromarray(r_np.astype('uint8'))\n",
    "image_mod = Image.merge(\"RGB\", (r_mod, g, b))\n",
    "\n",
    "plt.imshow(image_mod)\n",
    "plt.title(\"Imagem com Canal Vermelho Modificado\")\n",
    "plt.axis('off')\n",
    "plt.show()\n"
   ]
  },
  {
   "cell_type": "markdown",
   "id": "43ac7b0a",
   "metadata": {},
   "source": [
    "## Criar uma imagem negativa"
   ]
  },
  {
   "cell_type": "code",
   "execution_count": null,
   "id": "308b9e24",
   "metadata": {},
   "outputs": [],
   "source": [
    "\n",
    "inv_image = Image.fromarray(255 - np.array(image))\n",
    "plt.imshow(inv_image)\n",
    "plt.title(\"Imagem Negativa\")\n",
    "plt.axis('off')\n",
    "plt.show()\n"
   ]
  },
  {
   "cell_type": "markdown",
   "id": "ce0762d1",
   "metadata": {},
   "source": [
    "## Salvar imagem modificada no disco"
   ]
  },
  {
   "cell_type": "code",
   "execution_count": null,
   "id": "d7aed910",
   "metadata": {},
   "outputs": [],
   "source": [
    "\n",
    "image_mod.save(\"imagem_modificada.png\")\n",
    "print(\"Imagem modificada salva como imagem_modificada.png\")\n"
   ]
  },
  {
   "cell_type": "markdown",
   "id": "ab1416a9",
   "metadata": {},
   "source": [
    "## Recortar parte da imagem e salvar"
   ]
  },
  {
   "cell_type": "code",
   "execution_count": null,
   "id": "d7444821",
   "metadata": {},
   "outputs": [],
   "source": [
    "\n",
    "recorte = image.crop((100, 100, 300, 300))  # (esquerda, topo, direita, inferior)\n",
    "recorte.save(\"imagem_recortada.png\")\n",
    "plt.imshow(recorte)\n",
    "plt.title(\"Recorte da Imagem\")\n",
    "plt.axis('off')\n",
    "plt.show()\n"
   ]
  }
 ],
 "metadata": {
  "kernelspec": {
   "display_name": "Python 3",
   "name": "python3"
  }
 },
 "nbformat": 4,
 "nbformat_minor": 5
}